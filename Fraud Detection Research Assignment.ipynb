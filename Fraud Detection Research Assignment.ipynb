{
 "cells": [
  {
   "cell_type": "code",
   "execution_count": 1,
   "id": "517b00eb",
   "metadata": {},
   "outputs": [],
   "source": [
    "# Importing Relevant Libraries \n",
    "import pandas as pd\n",
    "import openpyxl\n",
    "import os\n",
    "import sqlalchemy\n",
    "import pymysql\n",
    "import sqlalchemy as db\n",
    "import sqlitecloud\n",
    "import numpy as np\n",
    "from numpy import sqrt \n",
    "import matplotlib.pyplot as plt\n",
    "from sklearn.model_selection import train_test_split\n",
    "import pandas as pd\n",
    "from sklearn.linear_model import LinearRegression\n",
    "from sklearn.preprocessing import StandardScaler\n",
    "from sklearn.preprocessing import MinMaxScaler\n",
    "import seaborn as sns\n",
    "from scipy import optimize\n",
    "import csv\n",
    "import itertools\n",
    "from collections import ChainMap\n",
    "import unittest\n",
    "import socket\n",
    "import requests\n",
    "\n",
    "#from googlemaps import GoogleMaps\n",
    "#from geopy.geocoders import Nominatim\n",
    "#import geopandas as gpd\n",
    "#from ip2geotools.databases.noncommercial import DbIpCity\n",
    "#from geopy.distance import distance"
   ]
  },
  {
   "cell_type": "code",
   "execution_count": 2,
   "id": "d23c2156",
   "metadata": {},
   "outputs": [],
   "source": [
    "class Importing_Datasets:\n",
    "    \n",
    "    def __init__ (self, filename):\n",
    "        \n",
    "        # Importing E-Commerce Data Set from CSV File for Analysis\n",
    "        try:\n",
    "            self.data = pd.read_csv(filename)\n",
    "            print(self.data.columns) \n",
    "            \n",
    "        except FileNotFoundError:\n",
    "            raise Exception(f\"The File titled {filename} is not found.\")\n",
    "            \n",
    "        except pd.errors.EmptyDataError:\n",
    "            raise Exception(\"The Selected File is empty\")\n",
    "            \n",
    "        except pd.errors.ParserError:\n",
    "            raise Exception(\"The Selected File format is incorrect\")\n",
    "            \n",
    "        return\n",
    "    \n",
    "    # Calculate the mean of one of the columns in the dataset of the file that has been import through an instance of this class.\n",
    "#    def mean(self):       \n",
    "#        mean_input = self.data[\"y1\"].mean()      \n",
    "#        return mean_input\n",
    "\n",
    "    # Importing of the Dataset that is called in an instance of the file. \n",
    "    def import_datasets(self):\n",
    "        \n",
    "        return self.data"
   ]
  },
  {
   "cell_type": "code",
   "execution_count": 3,
   "id": "f82fed75",
   "metadata": {},
   "outputs": [
    {
     "name": "stdout",
     "output_type": "stream",
     "text": [
      "Index(['Transaction ID', 'Customer ID', 'Transaction Amount',\n",
      "       'Transaction Date', 'Payment Method', 'Product Category', 'Quantity',\n",
      "       'Customer Age', 'Customer Location', 'Device Used', 'IP Address',\n",
      "       'Shipping Address', 'Billing Address', 'Is Fraudulent',\n",
      "       'Account Age Days', 'Transaction Hour'],\n",
      "      dtype='object')\n"
     ]
    }
   ],
   "source": [
    "import_e_com_fraud = Importing_Datasets(\"Fraudulent_E-Commerce_Transaction_Data.csv\")"
   ]
  },
  {
   "cell_type": "code",
   "execution_count": 4,
   "id": "42710728",
   "metadata": {},
   "outputs": [],
   "source": [
    "e_com_fraud = import_e_com_fraud.import_datasets()"
   ]
  },
  {
   "cell_type": "code",
   "execution_count": 5,
   "id": "d9a97305",
   "metadata": {},
   "outputs": [
    {
     "data": {
      "text/html": [
       "<div>\n",
       "<style scoped>\n",
       "    .dataframe tbody tr th:only-of-type {\n",
       "        vertical-align: middle;\n",
       "    }\n",
       "\n",
       "    .dataframe tbody tr th {\n",
       "        vertical-align: top;\n",
       "    }\n",
       "\n",
       "    .dataframe thead th {\n",
       "        text-align: right;\n",
       "    }\n",
       "</style>\n",
       "<table border=\"1\" class=\"dataframe\">\n",
       "  <thead>\n",
       "    <tr style=\"text-align: right;\">\n",
       "      <th></th>\n",
       "      <th>Transaction ID</th>\n",
       "      <th>Customer ID</th>\n",
       "      <th>Transaction Amount</th>\n",
       "      <th>Transaction Date</th>\n",
       "      <th>Payment Method</th>\n",
       "      <th>Product Category</th>\n",
       "      <th>Quantity</th>\n",
       "      <th>Customer Age</th>\n",
       "      <th>Customer Location</th>\n",
       "      <th>Device Used</th>\n",
       "      <th>IP Address</th>\n",
       "      <th>Shipping Address</th>\n",
       "      <th>Billing Address</th>\n",
       "      <th>Is Fraudulent</th>\n",
       "      <th>Account Age Days</th>\n",
       "      <th>Transaction Hour</th>\n",
       "    </tr>\n",
       "  </thead>\n",
       "  <tbody>\n",
       "    <tr>\n",
       "      <th>0</th>\n",
       "      <td>15d2e414-8735-46fc-9e02-80b472b2580f</td>\n",
       "      <td>d1b87f62-51b2-493b-ad6a-77e0fe13e785</td>\n",
       "      <td>58.09</td>\n",
       "      <td>2024-02-20 05:58:41</td>\n",
       "      <td>bank transfer</td>\n",
       "      <td>electronics</td>\n",
       "      <td>1</td>\n",
       "      <td>17</td>\n",
       "      <td>Amandaborough</td>\n",
       "      <td>tablet</td>\n",
       "      <td>212.195.49.198</td>\n",
       "      <td>Unit 8934 Box 0058\\nDPO AA 05437</td>\n",
       "      <td>Unit 8934 Box 0058\\nDPO AA 05437</td>\n",
       "      <td>0</td>\n",
       "      <td>30</td>\n",
       "      <td>5</td>\n",
       "    </tr>\n",
       "    <tr>\n",
       "      <th>1</th>\n",
       "      <td>0bfee1a0-6d5e-40da-a446-d04e73b1b177</td>\n",
       "      <td>37de64d5-e901-4a56-9ea0-af0c24c069cf</td>\n",
       "      <td>389.96</td>\n",
       "      <td>2024-02-25 08:09:45</td>\n",
       "      <td>debit card</td>\n",
       "      <td>electronics</td>\n",
       "      <td>2</td>\n",
       "      <td>40</td>\n",
       "      <td>East Timothy</td>\n",
       "      <td>desktop</td>\n",
       "      <td>208.106.249.121</td>\n",
       "      <td>634 May Keys\\nPort Cherylview, NV 75063</td>\n",
       "      <td>634 May Keys\\nPort Cherylview, NV 75063</td>\n",
       "      <td>0</td>\n",
       "      <td>72</td>\n",
       "      <td>8</td>\n",
       "    </tr>\n",
       "    <tr>\n",
       "      <th>2</th>\n",
       "      <td>e588eef4-b754-468e-9d90-d0e0abfc1af0</td>\n",
       "      <td>1bac88d6-4b22-409a-a06b-425119c57225</td>\n",
       "      <td>134.19</td>\n",
       "      <td>2024-03-18 03:42:55</td>\n",
       "      <td>PayPal</td>\n",
       "      <td>home &amp; garden</td>\n",
       "      <td>2</td>\n",
       "      <td>22</td>\n",
       "      <td>Davismouth</td>\n",
       "      <td>tablet</td>\n",
       "      <td>76.63.88.212</td>\n",
       "      <td>16282 Dana Falls Suite 790\\nRothhaven, IL 15564</td>\n",
       "      <td>16282 Dana Falls Suite 790\\nRothhaven, IL 15564</td>\n",
       "      <td>0</td>\n",
       "      <td>63</td>\n",
       "      <td>3</td>\n",
       "    </tr>\n",
       "    <tr>\n",
       "      <th>3</th>\n",
       "      <td>4de46e52-60c3-49d9-be39-636681009789</td>\n",
       "      <td>2357c76e-9253-4ceb-b44e-ef4b71cb7d4d</td>\n",
       "      <td>226.17</td>\n",
       "      <td>2024-03-16 20:41:31</td>\n",
       "      <td>bank transfer</td>\n",
       "      <td>clothing</td>\n",
       "      <td>5</td>\n",
       "      <td>31</td>\n",
       "      <td>Lynnberg</td>\n",
       "      <td>desktop</td>\n",
       "      <td>207.208.171.73</td>\n",
       "      <td>828 Strong Loaf Apt. 646\\nNew Joshua, UT 84798</td>\n",
       "      <td>828 Strong Loaf Apt. 646\\nNew Joshua, UT 84798</td>\n",
       "      <td>0</td>\n",
       "      <td>124</td>\n",
       "      <td>20</td>\n",
       "    </tr>\n",
       "    <tr>\n",
       "      <th>4</th>\n",
       "      <td>074a76de-fe2d-443e-a00c-f044cdb68e21</td>\n",
       "      <td>45071bc5-9588-43ea-8093-023caec8ea1c</td>\n",
       "      <td>121.53</td>\n",
       "      <td>2024-01-15 05:08:17</td>\n",
       "      <td>bank transfer</td>\n",
       "      <td>clothing</td>\n",
       "      <td>2</td>\n",
       "      <td>51</td>\n",
       "      <td>South Nicole</td>\n",
       "      <td>tablet</td>\n",
       "      <td>190.172.14.169</td>\n",
       "      <td>29799 Jason Hills Apt. 439\\nWest Richardtown, ...</td>\n",
       "      <td>29799 Jason Hills Apt. 439\\nWest Richardtown, ...</td>\n",
       "      <td>0</td>\n",
       "      <td>158</td>\n",
       "      <td>5</td>\n",
       "    </tr>\n",
       "  </tbody>\n",
       "</table>\n",
       "</div>"
      ],
      "text/plain": [
       "                         Transaction ID                           Customer ID  \\\n",
       "0  15d2e414-8735-46fc-9e02-80b472b2580f  d1b87f62-51b2-493b-ad6a-77e0fe13e785   \n",
       "1  0bfee1a0-6d5e-40da-a446-d04e73b1b177  37de64d5-e901-4a56-9ea0-af0c24c069cf   \n",
       "2  e588eef4-b754-468e-9d90-d0e0abfc1af0  1bac88d6-4b22-409a-a06b-425119c57225   \n",
       "3  4de46e52-60c3-49d9-be39-636681009789  2357c76e-9253-4ceb-b44e-ef4b71cb7d4d   \n",
       "4  074a76de-fe2d-443e-a00c-f044cdb68e21  45071bc5-9588-43ea-8093-023caec8ea1c   \n",
       "\n",
       "   Transaction Amount     Transaction Date Payment Method Product Category  \\\n",
       "0               58.09  2024-02-20 05:58:41  bank transfer      electronics   \n",
       "1              389.96  2024-02-25 08:09:45     debit card      electronics   \n",
       "2              134.19  2024-03-18 03:42:55         PayPal    home & garden   \n",
       "3              226.17  2024-03-16 20:41:31  bank transfer         clothing   \n",
       "4              121.53  2024-01-15 05:08:17  bank transfer         clothing   \n",
       "\n",
       "   Quantity  Customer Age Customer Location Device Used       IP Address  \\\n",
       "0         1            17     Amandaborough      tablet   212.195.49.198   \n",
       "1         2            40      East Timothy     desktop  208.106.249.121   \n",
       "2         2            22        Davismouth      tablet     76.63.88.212   \n",
       "3         5            31          Lynnberg     desktop   207.208.171.73   \n",
       "4         2            51      South Nicole      tablet   190.172.14.169   \n",
       "\n",
       "                                    Shipping Address  \\\n",
       "0                   Unit 8934 Box 0058\\nDPO AA 05437   \n",
       "1            634 May Keys\\nPort Cherylview, NV 75063   \n",
       "2    16282 Dana Falls Suite 790\\nRothhaven, IL 15564   \n",
       "3     828 Strong Loaf Apt. 646\\nNew Joshua, UT 84798   \n",
       "4  29799 Jason Hills Apt. 439\\nWest Richardtown, ...   \n",
       "\n",
       "                                     Billing Address  Is Fraudulent  \\\n",
       "0                   Unit 8934 Box 0058\\nDPO AA 05437              0   \n",
       "1            634 May Keys\\nPort Cherylview, NV 75063              0   \n",
       "2    16282 Dana Falls Suite 790\\nRothhaven, IL 15564              0   \n",
       "3     828 Strong Loaf Apt. 646\\nNew Joshua, UT 84798              0   \n",
       "4  29799 Jason Hills Apt. 439\\nWest Richardtown, ...              0   \n",
       "\n",
       "   Account Age Days  Transaction Hour  \n",
       "0                30                 5  \n",
       "1                72                 8  \n",
       "2                63                 3  \n",
       "3               124                20  \n",
       "4               158                 5  "
      ]
     },
     "execution_count": 5,
     "metadata": {},
     "output_type": "execute_result"
    }
   ],
   "source": [
    "e_com_fraud.head()"
   ]
  },
  {
   "cell_type": "code",
   "execution_count": 6,
   "id": "300f1afc",
   "metadata": {},
   "outputs": [
    {
     "data": {
      "text/html": [
       "<div>\n",
       "<style scoped>\n",
       "    .dataframe tbody tr th:only-of-type {\n",
       "        vertical-align: middle;\n",
       "    }\n",
       "\n",
       "    .dataframe tbody tr th {\n",
       "        vertical-align: top;\n",
       "    }\n",
       "\n",
       "    .dataframe thead th {\n",
       "        text-align: right;\n",
       "    }\n",
       "</style>\n",
       "<table border=\"1\" class=\"dataframe\">\n",
       "  <thead>\n",
       "    <tr style=\"text-align: right;\">\n",
       "      <th></th>\n",
       "      <th>Transaction Amount</th>\n",
       "      <th>Quantity</th>\n",
       "      <th>Customer Age</th>\n",
       "      <th>Is Fraudulent</th>\n",
       "      <th>Account Age Days</th>\n",
       "      <th>Transaction Hour</th>\n",
       "    </tr>\n",
       "  </thead>\n",
       "  <tbody>\n",
       "    <tr>\n",
       "      <th>count</th>\n",
       "      <td>1.472952e+06</td>\n",
       "      <td>1.472952e+06</td>\n",
       "      <td>1.472952e+06</td>\n",
       "      <td>1.472952e+06</td>\n",
       "      <td>1.472952e+06</td>\n",
       "      <td>1.472952e+06</td>\n",
       "    </tr>\n",
       "    <tr>\n",
       "      <th>mean</th>\n",
       "      <td>2.267683e+02</td>\n",
       "      <td>3.000230e+00</td>\n",
       "      <td>3.451208e+01</td>\n",
       "      <td>5.012926e-02</td>\n",
       "      <td>1.796464e+02</td>\n",
       "      <td>1.128696e+01</td>\n",
       "    </tr>\n",
       "    <tr>\n",
       "      <th>std</th>\n",
       "      <td>2.703951e+02</td>\n",
       "      <td>1.414736e+00</td>\n",
       "      <td>1.000313e+01</td>\n",
       "      <td>2.182117e-01</td>\n",
       "      <td>1.068642e+02</td>\n",
       "      <td>6.975995e+00</td>\n",
       "    </tr>\n",
       "    <tr>\n",
       "      <th>min</th>\n",
       "      <td>1.000000e+01</td>\n",
       "      <td>1.000000e+00</td>\n",
       "      <td>-1.600000e+01</td>\n",
       "      <td>0.000000e+00</td>\n",
       "      <td>1.000000e+00</td>\n",
       "      <td>0.000000e+00</td>\n",
       "    </tr>\n",
       "    <tr>\n",
       "      <th>25%</th>\n",
       "      <td>6.861000e+01</td>\n",
       "      <td>2.000000e+00</td>\n",
       "      <td>2.800000e+01</td>\n",
       "      <td>0.000000e+00</td>\n",
       "      <td>8.600000e+01</td>\n",
       "      <td>5.000000e+00</td>\n",
       "    </tr>\n",
       "    <tr>\n",
       "      <th>50%</th>\n",
       "      <td>1.517600e+02</td>\n",
       "      <td>3.000000e+00</td>\n",
       "      <td>3.500000e+01</td>\n",
       "      <td>0.000000e+00</td>\n",
       "      <td>1.790000e+02</td>\n",
       "      <td>1.100000e+01</td>\n",
       "    </tr>\n",
       "    <tr>\n",
       "      <th>75%</th>\n",
       "      <td>2.960500e+02</td>\n",
       "      <td>4.000000e+00</td>\n",
       "      <td>4.100000e+01</td>\n",
       "      <td>0.000000e+00</td>\n",
       "      <td>2.720000e+02</td>\n",
       "      <td>1.700000e+01</td>\n",
       "    </tr>\n",
       "    <tr>\n",
       "      <th>max</th>\n",
       "      <td>1.270175e+04</td>\n",
       "      <td>5.000000e+00</td>\n",
       "      <td>8.600000e+01</td>\n",
       "      <td>1.000000e+00</td>\n",
       "      <td>3.650000e+02</td>\n",
       "      <td>2.300000e+01</td>\n",
       "    </tr>\n",
       "  </tbody>\n",
       "</table>\n",
       "</div>"
      ],
      "text/plain": [
       "       Transaction Amount      Quantity  Customer Age  Is Fraudulent  \\\n",
       "count        1.472952e+06  1.472952e+06  1.472952e+06   1.472952e+06   \n",
       "mean         2.267683e+02  3.000230e+00  3.451208e+01   5.012926e-02   \n",
       "std          2.703951e+02  1.414736e+00  1.000313e+01   2.182117e-01   \n",
       "min          1.000000e+01  1.000000e+00 -1.600000e+01   0.000000e+00   \n",
       "25%          6.861000e+01  2.000000e+00  2.800000e+01   0.000000e+00   \n",
       "50%          1.517600e+02  3.000000e+00  3.500000e+01   0.000000e+00   \n",
       "75%          2.960500e+02  4.000000e+00  4.100000e+01   0.000000e+00   \n",
       "max          1.270175e+04  5.000000e+00  8.600000e+01   1.000000e+00   \n",
       "\n",
       "       Account Age Days  Transaction Hour  \n",
       "count      1.472952e+06      1.472952e+06  \n",
       "mean       1.796464e+02      1.128696e+01  \n",
       "std        1.068642e+02      6.975995e+00  \n",
       "min        1.000000e+00      0.000000e+00  \n",
       "25%        8.600000e+01      5.000000e+00  \n",
       "50%        1.790000e+02      1.100000e+01  \n",
       "75%        2.720000e+02      1.700000e+01  \n",
       "max        3.650000e+02      2.300000e+01  "
      ]
     },
     "execution_count": 6,
     "metadata": {},
     "output_type": "execute_result"
    }
   ],
   "source": [
    "e_com_fraud.describe()"
   ]
  },
  {
   "cell_type": "code",
   "execution_count": 7,
   "id": "02330a16",
   "metadata": {},
   "outputs": [
    {
     "data": {
      "text/plain": [
       "Transaction ID         object\n",
       "Customer ID            object\n",
       "Transaction Amount    float64\n",
       "Transaction Date       object\n",
       "Payment Method         object\n",
       "Product Category       object\n",
       "Quantity                int64\n",
       "Customer Age            int64\n",
       "Customer Location      object\n",
       "Device Used            object\n",
       "IP Address             object\n",
       "Shipping Address       object\n",
       "Billing Address        object\n",
       "Is Fraudulent           int64\n",
       "Account Age Days        int64\n",
       "Transaction Hour        int64\n",
       "dtype: object"
      ]
     },
     "execution_count": 7,
     "metadata": {},
     "output_type": "execute_result"
    }
   ],
   "source": [
    "e_com_fraud.dtypes"
   ]
  },
  {
   "cell_type": "code",
   "execution_count": 8,
   "id": "3925bd0b",
   "metadata": {},
   "outputs": [
    {
     "data": {
      "text/plain": [
       "Transaction ID        0\n",
       "Customer ID           0\n",
       "Transaction Amount    0\n",
       "Transaction Date      0\n",
       "Payment Method        0\n",
       "Product Category      0\n",
       "Quantity              0\n",
       "Customer Age          0\n",
       "Customer Location     0\n",
       "Device Used           0\n",
       "IP Address            0\n",
       "Shipping Address      0\n",
       "Billing Address       0\n",
       "Is Fraudulent         0\n",
       "Account Age Days      0\n",
       "Transaction Hour      0\n",
       "dtype: int64"
      ]
     },
     "metadata": {},
     "output_type": "display_data"
    },
    {
     "name": "stdout",
     "output_type": "stream",
     "text": [
      "Hence, there is no null value in any of the columns\n"
     ]
    }
   ],
   "source": [
    "# Check for null values in Dataset per column:\n",
    "display(e_com_fraud.isnull().sum())\n",
    "print(\"Hence, there is no null value in any of the columns\")"
   ]
  },
  {
   "cell_type": "code",
   "execution_count": 9,
   "id": "567070de",
   "metadata": {},
   "outputs": [],
   "source": [
    "class Pre_Analysis:\n",
    "    \n",
    "    def __init__(self, e_commerce_fraud_data):\n",
    "        \n",
    "        self.data = pd.DataFrame(e_commerce_fraud_data)\n",
    "        new_data = self.data\n",
    "        \n",
    "        return\n",
    "    \n",
    "    def e_com_fraud_data(self):\n",
    "        \n",
    "        return self.data\n",
    "    \n",
    "    def new_e_com_fraud_data(self):\n",
    "        \n",
    "        return new_data\n",
    "    \n",
    "          \n",
    "    def column_mean(self):\n",
    "        \n",
    "        self.mean_input_trn_amt = self.data[\"Transaction Amount\"].mean()\n",
    "        self.mean_input_qty = self.data[\"Quantity\"].mean()\n",
    "        self.mean_input_cust_age = self.data[\"Customer Age\"].mean()\n",
    "        self.mean_input_acc_age = self.data[\"Account Age Days\"].mean()\n",
    "        self.mean_input_trn_hr = self.data[\"Transaction Hour\"].mean()\n",
    "        print(\"Transaction Amount Average:\", format(self.mean_input_trn_amt))\n",
    "        print(\"Quantity Average:\", format(self.mean_input_qty))\n",
    "        print(\"Customer Age Average:\", format(self.mean_input_cust_age))\n",
    "        print(\"Account Age Average:\", format(self.mean_input_acc_age))\n",
    "        print(\"Transaction Hour Average:\", format(self.mean_input_trn_hr))\n",
    "        \n",
    "    \n",
    "#    def distribution_plot(self):\n",
    "        \n",
    "#        self.qty = self.data[\"Quantity\"]\n",
    "#        self.cust_age = self.data[\"Customer Age\"]\n",
    "#        self.acc_age = self.data[\"Account Age Days\"]\n",
    "#        self.trn_hr = self.data[\"Transaction Hour\"]\n",
    "#        plt.hist(self.qty, color='lightgreen', ec='black', bins=15)\n",
    "#        plt.hist(self.cust_age, color='lightgreen', ec='black', bins=15)\n",
    "#        plt.hist(self.acc_age, color='lightgreen', ec='black', bins=15)\n",
    "#        plt.hist(self.trn_hr, color='lightgreen', ec='black', bins=15)\n",
    "        \n",
    "    \n",
    "    def histogram_plot(self):\n",
    "        \n",
    "        self.trn_amt = self.data[\"Transaction Amount\"]\n",
    "        self.qty = self.data[\"Quantity\"]\n",
    "        self.cust_age = self.data[\"Customer Age\"]\n",
    "        self.acc_age = self.data[\"Account Age Days\"]\n",
    "        self.input_trn_hr = self.data[\"Transaction Hour\"]\n",
    "\n",
    "        sns.displot(self.trn_amt, kde=True, bins=15)\n",
    "        sns.displot(self.qty, kde=True, bins=15)\n",
    "        sns.displot(self.cust_age, kde=True, bins=15)\n",
    "        sns.displot(self.acc_age, kde=True, bins=15)\n",
    "        sns.displot(self.input_trn_hr, kde=True, bins=15)\n",
    "        \n",
    "        \n",
    "    def bar_graph(self):\n",
    "        \n",
    "        self.prod_cat = self.data[\"Payment Method\"]\n",
    "        self.prod_cat_dict = self.prod_cat.to_dict()\n",
    "        self.prod_cat_keys = list(self.prod_cat_dict.keys())\n",
    "        self.prod_cat_values = list(self.prod_cat_dict.values())\n",
    "        \n",
    "        plt.bar(self.prod_cat, values, color ='maroon', \n",
    "        width = 0.4)        "
   ]
  },
  {
   "cell_type": "code",
   "execution_count": 10,
   "id": "10f661d3",
   "metadata": {},
   "outputs": [],
   "source": [
    "init_e_com_fraud = Pre_Analysis(e_com_fraud)"
   ]
  },
  {
   "cell_type": "code",
   "execution_count": 11,
   "id": "bdb7e193",
   "metadata": {},
   "outputs": [
    {
     "name": "stdout",
     "output_type": "stream",
     "text": [
      "Transaction Amount Average: 226.7683092388607\n",
      "Quantity Average: 3.00023015006599\n",
      "Customer Age Average: 34.5120811811926\n",
      "Account Age Average: 179.64639784595832\n",
      "Transaction Hour Average: 11.28696386576073\n"
     ]
    }
   ],
   "source": [
    "init_e_com_fraud_mean = init_e_com_fraud.column_mean()"
   ]
  },
  {
   "cell_type": "code",
   "execution_count": null,
   "id": "6fa598bd",
   "metadata": {},
   "outputs": [],
   "source": [
    "init_e_com_fraud_distr_plot = init_e_com_fraud.histogram_plot()"
   ]
  },
  {
   "cell_type": "code",
   "execution_count": null,
   "id": "2d17285d",
   "metadata": {},
   "outputs": [],
   "source": [
    "#init_e_com_fraud.bar_graph()"
   ]
  },
  {
   "cell_type": "code",
   "execution_count": null,
   "id": "904054dd",
   "metadata": {},
   "outputs": [],
   "source": [
    "grp_pmt_mthd = e_com_fraud[\"Payment Method\"].value_counts()\n",
    "grp_pmt_mthd_dict = grp_pmt_mthd.to_dict()\n",
    "grp_pmt_mthd_dict_keys = grp_pmt_mthd_dict.keys()\n",
    "grp_pmt_mthd_dict_values = grp_pmt_mthd_dict.values()\n",
    "plt.bar(grp_pmt_mthd_dict_keys, grp_pmt_mthd_dict_values, color ='Green', width = 0.4)\n",
    "   \n",
    "# The Title of the Bar Graph:\n",
    "plt.title(\"Spread of Payment Methods\")\n",
    "     \n",
    "# The Labels f the X ans Y Axis:\n",
    "plt.xlabel(\"Payment Methods\")\n",
    "plt.ylabel(\"Count of Payment Methods\")\n",
    "\n",
    "# Showing the Graph Plot:\n",
    "plt.show()\n",
    "#print(grp_pmt_mthd)\n",
    "#print(grp_pmt_mthd_dict)"
   ]
  },
  {
   "cell_type": "code",
   "execution_count": null,
   "id": "ffe16089",
   "metadata": {},
   "outputs": [],
   "source": [
    "grp_prod_cat = e_com_fraud[\"Product Category\"].value_counts()\n",
    "grp_prod_cat_dict = grp_prod_cat.to_dict()\n",
    "grp_prod_cat_dict_keys = grp_prod_cat_dict.keys()\n",
    "grp_prod_cat_dict_values = grp_prod_cat_dict.values()\n",
    "plt.bar(grp_prod_cat_dict_keys, grp_prod_cat_dict_values, color ='Green', width = 0.4)\n",
    "\n",
    "# The Title of the Bar Graph:\n",
    "plt.title(\"Spread of Product Category\")\n",
    "     \n",
    "# The Labels f the X ans Y Axis:\n",
    "plt.xlabel(\"Product Category\")\n",
    "plt.ylabel(\"Count of Product Category\")\n",
    "\n",
    "# Showing the Graph Plot:\n",
    "plt.show()\n",
    "\n",
    "plt.show()"
   ]
  },
  {
   "cell_type": "code",
   "execution_count": null,
   "id": "9b98975e",
   "metadata": {},
   "outputs": [],
   "source": [
    "grp_dev_used = e_com_fraud[\"Device Used\"].value_counts()\n",
    "grp_dev_used_dict = grp_dev_used.to_dict()\n",
    "grp_dev_used_dict_keys = grp_dev_used_dict.keys()\n",
    "grp_dev_used_dict_values = grp_dev_used_dict.values()\n",
    "plt.bar(grp_dev_used_dict_keys, grp_dev_used_dict_values, color ='Green', width = 0.4)\n",
    "\n",
    "# The Title of the Bar Graph:\n",
    "plt.title(\"Spread of Device Type\")\n",
    "     \n",
    "# The Labels f the X ans Y Axis:\n",
    "plt.xlabel(\"Device Type\")\n",
    "plt.ylabel(\"Count of Device Type\")\n",
    "\n",
    "plt.show()"
   ]
  },
  {
   "cell_type": "code",
   "execution_count": null,
   "id": "517beee1",
   "metadata": {},
   "outputs": [],
   "source": [
    "#grp_cust_loc = e_com_fraud[\"Customer Location\"].value_counts()\n",
    "#grp_cust_loc_dict = grp_cust_loc.to_dict()\n",
    "#grp_cust_loc_dict_keys = grp_cust_loc_dict.keys()\n",
    "#grp_cust_loc_dict_values = grp_cust_loc_dict.values()\n",
    "#plt.bar(grp_cust_loc_dict_keys, grp_cust_loc_dict_values, color ='Green', width = 0.4)\n",
    "#plt.show()"
   ]
  },
  {
   "cell_type": "code",
   "execution_count": null,
   "id": "d9b11470",
   "metadata": {},
   "outputs": [],
   "source": [
    "#Spread of Count of Customer Location:\n",
    "grp_cust_loc = e_com_fraud[\"Customer Location\"].value_counts()\n",
    "print(grp_cust_loc)"
   ]
  },
  {
   "cell_type": "code",
   "execution_count": null,
   "id": "5b1f5cd4",
   "metadata": {},
   "outputs": [],
   "source": [
    "#Spread of Count of Transaction ID Location:\n",
    "grp_trans_id = e_com_fraud[\"Transaction ID\"].value_counts()\n",
    "print(grp_trans_id)"
   ]
  },
  {
   "cell_type": "code",
   "execution_count": null,
   "id": "ee6deeec",
   "metadata": {},
   "outputs": [],
   "source": [
    "#Spread of Count of Customer ID Location:\n",
    "grp_cust_id = e_com_fraud[\"Customer ID\"].value_counts()\n",
    "print(grp_cust_id)"
   ]
  },
  {
   "cell_type": "code",
   "execution_count": null,
   "id": "470609fc",
   "metadata": {},
   "outputs": [],
   "source": [
    "#Spread of Count of Customer Location:\n",
    "grp_ip_addr = e_com_fraud[\"IP Address\"].value_counts()\n",
    "print(grp_ip_addr)"
   ]
  },
  {
   "cell_type": "code",
   "execution_count": null,
   "id": "afbd5451",
   "metadata": {},
   "outputs": [],
   "source": [
    "#Spread of Count of Payment Method Location:\n",
    "grp_pmt_mthd = e_com_fraud[\"Payment Method\"].value_counts()\n",
    "print(grp_pmt_mthd)"
   ]
  },
  {
   "cell_type": "code",
   "execution_count": null,
   "id": "154e856b",
   "metadata": {},
   "outputs": [],
   "source": [
    "#Spread of Count of Product Category Location:\n",
    "grp_prod_cat = e_com_fraud[\"Product Category\"].value_counts()\n",
    "print(grp_prod_cat)"
   ]
  },
  {
   "cell_type": "code",
   "execution_count": null,
   "id": "d5c11dca",
   "metadata": {},
   "outputs": [],
   "source": [
    "# Correlation Matrix:\n",
    "\n",
    "Corr_Matrix = round(e_com_fraud.corr(),2)\n",
    "\n",
    "axis_corr = sns.heatmap(\n",
    "Corr_Matrix,\n",
    "vmin=-1, vmax=1, center=0,\n",
    "cmap=sns.diverging_palette(50, 500, n=500),\n",
    "square=True\n",
    ")\n",
    "\n",
    "plt.show()\n",
    "#print(Corr_Matrix)"
   ]
  },
  {
   "cell_type": "markdown",
   "id": "6c57cff0",
   "metadata": {},
   "source": [
    "# Feature Engineering:"
   ]
  },
  {
   "cell_type": "code",
   "execution_count": null,
   "id": "e53f4557",
   "metadata": {},
   "outputs": [],
   "source": [
    "class feature_eng():\n",
    "    \n",
    "    def __init__(self, e_commerce_fraud_data):\n",
    "        \n",
    "        self.data = pd.DataFrame(e_commerce_fraud_data)\n",
    "        self.data_x_num = self.data[[\"Transaction Amount\", \"Quantity\", \"Customer Age\", \"Account Age Days\", \"Transaction Hour\"]]\n",
    "        self.data_x_cat = self.data[[\"Payment Method\", \"Product Category\", \"Customer Location\", \"Device Used\", \"Billing Address\", \n",
    "                                     \"Shipping Address\"]]\n",
    "        self.data_y = self.data[[\"Is Fraudulent\"]]\n",
    "        \n",
    "        \n",
    "    def normalize_x_num_var(self):\n",
    "        \n",
    "        # Standardization Object:\n",
    "        std_scalar = StandardScaler()\n",
    "        \n",
    "        # Standardization of Training Data:\n",
    "        self.data_x_num_std = std_scalar.fit_transform(self.data_x_num)\n",
    "        \n",
    "        # Standardized (Transformed) Data:\n",
    "        self.data_x_num_std = pd.DataFrame(self.data_x_num_std, columns = self.data_x_num.columns)\n",
    "        \n",
    "        #display(self.data_x_num_std)\n",
    "        return self.data_x_num_std\n",
    "    \n",
    "    \n",
    "    def normalize_x_cat(self):\n",
    "\n",
    "        self.data_x_cat_hot_enc = pd.get_dummies(self.data_x_cat[['Payment Method','Product Category','Device Used']])\n",
    "        return self.data_x_cat_hot_enc\n",
    "        \n",
    "        \n",
    "    def final_encoded_data(self):\n",
    "        \n",
    "        self.data_nor_enc = [self.data_x_num_std, self.data_x_cat_hot_enc]\n",
    "        self.data_nor_enc = pd.concat([self.data_x_num_std, self.data_x_cat_hot_enc], axis=1, join=\"inner\")\n",
    "        \n",
    "        return self.data_nor_enc\n",
    "        \n",
    "        "
   ]
  },
  {
   "cell_type": "code",
   "execution_count": null,
   "id": "3ea005b4",
   "metadata": {},
   "outputs": [],
   "source": [
    "ft_eng = feature_eng(e_com_fraud)"
   ]
  },
  {
   "cell_type": "code",
   "execution_count": null,
   "id": "6c52af50",
   "metadata": {},
   "outputs": [],
   "source": [
    "ft_eng.normalize_x_num_var()"
   ]
  },
  {
   "cell_type": "code",
   "execution_count": null,
   "id": "76945b2c",
   "metadata": {},
   "outputs": [],
   "source": [
    "ft_eng.normalize_x_cat()"
   ]
  },
  {
   "cell_type": "code",
   "execution_count": null,
   "id": "e848b897",
   "metadata": {},
   "outputs": [],
   "source": [
    "# Final Dataset After Normalization and Encoding:\n",
    "df_final_encoded_data = ft_eng.final_encoded_data()\n",
    "display(df_final_encoded_data)"
   ]
  },
  {
   "cell_type": "code",
   "execution_count": null,
   "id": "f222bde5",
   "metadata": {},
   "outputs": [],
   "source": [
    "class Post_std_enc_analysis(Pre_Analysis):\n",
    "    \n",
    "    pass\n",
    "    \n",
    "    def __init__(self, e_commerce_fraud_data):       \n",
    "        super().__init__(e_commerce_fraud_data)\n",
    "        self.data = e_commerce_fraud_data\n",
    "        \n",
    "        \n",
    "    def display_enc(self):  \n",
    "        return self.data\n",
    "    \n",
    "    def foo(self):\n",
    "        super(Post_std_enc_analysis, self).histogram_plot()   # calls 'A.foo()'"
   ]
  },
  {
   "cell_type": "code",
   "execution_count": null,
   "id": "4e1048be",
   "metadata": {},
   "outputs": [],
   "source": [
    "post_ft_eng_e_com_fraud = Post_std_enc_analysis(df_final_encoded_data)"
   ]
  },
  {
   "cell_type": "code",
   "execution_count": null,
   "id": "d731e47e",
   "metadata": {},
   "outputs": [],
   "source": [
    "post_ft_eng_e_com_fraud_data = post_ft_eng_e_com_fraud.display_enc()\n",
    "display(post_ft_eng_e_com_fraud_data)"
   ]
  },
  {
   "cell_type": "code",
   "execution_count": null,
   "id": "d616a9ca",
   "metadata": {},
   "outputs": [],
   "source": [
    "post_e_com_fraud_distr_plot = post_ft_eng_e_com_fraud.histogram_plot()\n",
    "#display(post_e_com_fraud_distr_plot)"
   ]
  },
  {
   "cell_type": "code",
   "execution_count": null,
   "id": "5393b99c",
   "metadata": {},
   "outputs": [],
   "source": [
    "post_e_com_fraud_distr_plot = post_ft_eng_e_com_fraud.foo()"
   ]
  },
  {
   "cell_type": "code",
   "execution_count": null,
   "id": "ba32e2cc",
   "metadata": {},
   "outputs": [],
   "source": [
    "display(post_e_com_fraud_distr_plot)"
   ]
  },
  {
   "cell_type": "code",
   "execution_count": null,
   "id": "ff9a33b4",
   "metadata": {},
   "outputs": [],
   "source": [
    "import re\n",
    "import json\n",
    "#from urllib2 import urlopen"
   ]
  },
  {
   "cell_type": "code",
   "execution_count": null,
   "id": "dc07d92d",
   "metadata": {},
   "outputs": [],
   "source": [
    "def get_ip():\n",
    "    response = requests.get('https://api64.ipify.org?format=json').json()\n",
    "    return response[\"ip\"]\n"
   ]
  },
  {
   "cell_type": "code",
   "execution_count": null,
   "id": "0bb14af8",
   "metadata": {},
   "outputs": [],
   "source": [
    "def get_location():\n",
    "    ip_address = get_ip()\n",
    "    response = requests.get(f'https://ipapi.co/{ip_address}/json/').json()\n",
    "    location_data = {\n",
    "        \"ip\": ip_address,\n",
    "        \"city\": response.get(\"city\"),\n",
    "        \"region\": response.get(\"region\"),\n",
    "        \"country\": response.get(\"country_name\")\n",
    "    }\n",
    "    return location_data"
   ]
  },
  {
   "cell_type": "code",
   "execution_count": null,
   "id": "bbc8c41e",
   "metadata": {},
   "outputs": [],
   "source": [
    "#print(get_location())"
   ]
  },
  {
   "cell_type": "code",
   "execution_count": null,
   "id": "6f94b0fb",
   "metadata": {},
   "outputs": [],
   "source": [
    "def get_location():\n",
    "    ip_address = \"212.195.49.198\"\n",
    "    response = requests.get(f'https://ipapi.co/{ip_address}/json/').json()\n",
    "    location_data = {\n",
    "        \"ip\": ip_address,\n",
    "        \"city\": response.get(\"city\"),\n",
    "        \"region\": response.get(\"region\"),\n",
    "        \"country\": response.get(\"country_name\")\n",
    "    }\n",
    "    return location_data"
   ]
  },
  {
   "cell_type": "code",
   "execution_count": null,
   "id": "fa2a68ef",
   "metadata": {},
   "outputs": [],
   "source": [
    "#get_location()"
   ]
  },
  {
   "cell_type": "code",
   "execution_count": null,
   "id": "9dbbc9e0",
   "metadata": {},
   "outputs": [],
   "source": [
    "#import ipinfo\n",
    "#import sys"
   ]
  },
  {
   "cell_type": "code",
   "execution_count": null,
   "id": "4ebb5c27",
   "metadata": {},
   "outputs": [],
   "source": [
    "#import sys"
   ]
  },
  {
   "cell_type": "markdown",
   "id": "4b203ccb",
   "metadata": {},
   "source": [
    "import requests\n",
    "\n",
    "# Replace YOUR_API_KEY with your actual API key. Sign up and get an API key on https://www.geoapify.com/ \n",
    "API_KEY = \"212.195.49.198\"\n",
    "\n",
    "# Define the address to geocode\n",
    "address = \"1600 Amphitheatre Parkway, Mountain View, CA\"\n",
    "\n",
    "# Build the API URL\n",
    "url = f\"https://api.geoapify.com/v1/geocode/search?text={address}&limit=1&apiKey={API_KEY}\"\n",
    "\n",
    "# Send the API request and get the response\n",
    "response = requests.get(url)\n",
    "\n",
    "# Check the response status code\n",
    "if response.status_code == 200:\n",
    "    # Parse the JSON data from the response\n",
    "    data = response.json()\n",
    "\n",
    "    # Extract the first result from the data\n",
    "    result = data[\"features\"][0]\n",
    "\n",
    "    # Extract the latitude and longitude of the result\n",
    "    latitude = result[\"geometry\"][\"coordinates\"][1]\n",
    "    longitude = result[\"geometry\"][\"coordinates\"][0]\n",
    "\n",
    "    print(f\"Latitude: {latitude}, Longitude: {longitude}\")\n",
    "else:\n",
    "    print(f\"Request failed with status code {response.status_code}\")"
   ]
  },
  {
   "cell_type": "code",
   "execution_count": null,
   "id": "a56c661c",
   "metadata": {},
   "outputs": [],
   "source": [
    "acc_age_days = post_ft_eng_e_com_fraud_data[\"Account Age Days\"]\n",
    "#display(acc_age_days)\n",
    "sns.displot(acc_age_days, kde=True, bins=15)"
   ]
  },
  {
   "cell_type": "code",
   "execution_count": null,
   "id": "dd57e26a",
   "metadata": {},
   "outputs": [],
   "source": []
  }
 ],
 "metadata": {
  "kernelspec": {
   "display_name": "Python 3 (ipykernel)",
   "language": "python",
   "name": "python3"
  },
  "language_info": {
   "codemirror_mode": {
    "name": "ipython",
    "version": 3
   },
   "file_extension": ".py",
   "mimetype": "text/x-python",
   "name": "python",
   "nbconvert_exporter": "python",
   "pygments_lexer": "ipython3",
   "version": "3.9.13"
  }
 },
 "nbformat": 4,
 "nbformat_minor": 5
}
